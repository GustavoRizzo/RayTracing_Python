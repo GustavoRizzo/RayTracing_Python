{
 "cells": [
  {
   "cell_type": "code",
   "execution_count": 10,
   "metadata": {},
   "outputs": [],
   "source": [
    "import glm"
   ]
  },
  {
   "cell_type": "code",
   "execution_count": 11,
   "metadata": {},
   "outputs": [],
   "source": [
    "eye = glm.vec3(0,1,0)\n",
    "target = glm.vec3(0,1,1)\n",
    "up = glm.vec3(0,1,0)"
   ]
  },
  {
   "cell_type": "code",
   "execution_count": 12,
   "metadata": {},
   "outputs": [
    {
     "name": "stdout",
     "output_type": "stream",
     "text": [
      "[           -1 ][            0 ][            0 ][           -0 ]\n",
      "[            0 ][            1 ][           -0 ][           -1 ]\n",
      "[           -0 ][           -0 ][           -1 ][            0 ]\n",
      "[            0 ][            0 ][            0 ][            1 ]\n"
     ]
    }
   ],
   "source": [
    "V = glm.lookAt(eye,target,up) # to local space\n",
    "print(V)"
   ]
  },
  {
   "cell_type": "code",
   "execution_count": 13,
   "metadata": {},
   "outputs": [
    {
     "data": {
      "text/plain": [
       "vec4( 0, -1, 0, 1 )"
      ]
     },
     "execution_count": 13,
     "metadata": {},
     "output_type": "execute_result"
    }
   ],
   "source": [
    "V*glm.vec4(0,0,0,1)"
   ]
  },
  {
   "cell_type": "code",
   "execution_count": 14,
   "metadata": {},
   "outputs": [
    {
     "name": "stdout",
     "output_type": "stream",
     "text": [
      "[           -1 ][           -0 ][            0 ][           -0 ]\n",
      "[           -0 ][            1 ][            0 ][            1 ]\n",
      "[            0 ][           -0 ][           -1 ][            0 ]\n",
      "[           -0 ][            0 ][            0 ][            1 ]\n"
     ]
    }
   ],
   "source": [
    "V_inv = glm.inverse(V) #to world\n",
    "print(V_inv)"
   ]
  },
  {
   "cell_type": "code",
   "execution_count": 16,
   "metadata": {},
   "outputs": [
    {
     "name": "stdout",
     "output_type": "stream",
     "text": [
      "vec3(            1,            2,            3 )\n",
      "vec3(     0.267261,     0.534522,     0.801784 )\n"
     ]
    }
   ],
   "source": [
    "u = glm.vec3(1,2,3)\n",
    "print(u)\n",
    "u_normalized = glm.normalize(u)\n",
    "print(u_normalized)"
   ]
  },
  {
   "cell_type": "code",
   "execution_count": 17,
   "metadata": {},
   "outputs": [
    {
     "name": "stdout",
     "output_type": "stream",
     "text": [
      "vec4(            1,            2,            3,            1 )\n",
      "vec4(     0.258199,     0.516398,     0.774597,     0.258199 )\n"
     ]
    }
   ],
   "source": [
    "v = glm.vec4(1,2,3,1)\n",
    "print(v)\n",
    "v_normalized = glm.normalize(v)\n",
    "print(v_normalized)"
   ]
  },
  {
   "cell_type": "code",
   "execution_count": null,
   "metadata": {},
   "outputs": [],
   "source": []
  }
 ],
 "metadata": {
  "kernelspec": {
   "display_name": "Python 3",
   "language": "python",
   "name": "python3"
  },
  "language_info": {
   "codemirror_mode": {
    "name": "ipython",
    "version": 3
   },
   "file_extension": ".py",
   "mimetype": "text/x-python",
   "name": "python",
   "nbconvert_exporter": "python",
   "pygments_lexer": "ipython3",
   "version": "3.11.0"
  }
 },
 "nbformat": 4,
 "nbformat_minor": 2
}
